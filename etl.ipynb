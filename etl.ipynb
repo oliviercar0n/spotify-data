{
 "metadata": {
  "language_info": {
   "codemirror_mode": {
    "name": "ipython",
    "version": 3
   },
   "file_extension": ".py",
   "mimetype": "text/x-python",
   "name": "python",
   "nbconvert_exporter": "python",
   "pygments_lexer": "ipython3",
   "version": "3.8.5-final"
  },
  "orig_nbformat": 2,
  "kernelspec": {
   "name": "python385jvsc74a57bd0dca0ade3e726a953b501b15e8e990130d2b7799f14cfd9f4271676035ebe5511",
   "display_name": "Python 3.8.5 64-bit ('anaconda3': conda)"
  }
 },
 "nbformat": 4,
 "nbformat_minor": 2,
 "cells": [
  {
   "cell_type": "code",
   "execution_count": 1,
   "metadata": {},
   "outputs": [],
   "source": [
    "import pandas as pd\n",
    "import psycopg2\n",
    "import glob\n",
    "import json\n",
    "import csv"
   ]
  },
  {
   "cell_type": "code",
   "execution_count": 2,
   "metadata": {},
   "outputs": [],
   "source": [
    "JSON_FILES = \"json/*.json\""
   ]
  },
  {
   "cell_type": "code",
   "execution_count": 3,
   "metadata": {
    "tags": []
   },
   "outputs": [],
   "source": [
    "row_data = []\n",
    "for fp in glob.glob(JSON_FILES):\n",
    "    try:\n",
    "        with open(fp, 'r') as f:\n",
    "            data = json.load(f)\n",
    "        for track in data['items']:\n",
    "            song_data = [\n",
    "                track['track']['artists'][0]['name'],\n",
    "                track['track']['artists'][0]['uri'],\n",
    "                track['track']['name'],\n",
    "                track['track']['uri'],\n",
    "                int(track['track']['duration_ms']),\n",
    "                track['track']['popularity'],\n",
    "                track['played_at']\n",
    "            ]\n",
    "            row_data.append(song_data)\n",
    "    except:\n",
    "        pass"
   ]
  },
  {
   "cell_type": "code",
   "execution_count": 4,
   "metadata": {},
   "outputs": [],
   "source": [
    "columns = ['artistName','artistUri','songName','songUri','songDuration','songPopularity','played_at']\n",
    "df = pd.DataFrame(row_data, columns=columns)"
   ]
  },
  {
   "cell_type": "code",
   "execution_count": 5,
   "metadata": {},
   "outputs": [
    {
     "output_type": "execute_result",
     "data": {
      "text/plain": [
       "     artistName                              artistUri  \\\n",
       "397        Giom  spotify:artist:43Of1c5VKtUcPmNZTLu2it   \n",
       "398    Moe Turk  spotify:artist:12rv3gD3SpWQRRkswqlwvF   \n",
       "399  Etta James  spotify:artist:0iOVhN3tnSvgDbcg25JoJb   \n",
       "400    Alina K.  spotify:artist:1Pg8rh0BcD7t64YOWGFiwX   \n",
       "401     Tuplain  spotify:artist:7rju9kEAn7gtTnjCMtHhMj   \n",
       "\n",
       "                                          songName  \\\n",
       "397               Hot Rabbits - Spiritchaser Remix   \n",
       "398                                           Lost   \n",
       "399                          A Sunday Kind Of Love   \n",
       "400  Walking Your Path - Full Intention Sunset Mix   \n",
       "401                                      The Vibes   \n",
       "\n",
       "                                  songUri  songDuration  songPopularity  \\\n",
       "397  spotify:track:22QGqIGkPgCySsWIfiLHaS        482000               5   \n",
       "398  spotify:track:2t7MoYPZdgmGtoTyskyVr2        337735              24   \n",
       "399  spotify:track:0zGLlXbHlrAyBN1x6sY0rb        196133              71   \n",
       "400  spotify:track:6VGLQIcZm8tn4tBlaKsbrd        320702              37   \n",
       "401  spotify:track:13o9PO4h9qKcWTjwye6UCo        289970              32   \n",
       "\n",
       "                    played_at  \n",
       "397  2021-04-19T01:03:50.146Z  \n",
       "398  2021-04-18T23:57:22.876Z  \n",
       "399  2021-04-18T23:56:39.622Z  \n",
       "400  2021-04-18T23:53:24.720Z  \n",
       "401  2021-04-18T15:53:41.654Z  "
      ],
      "text/html": "<div>\n<style scoped>\n    .dataframe tbody tr th:only-of-type {\n        vertical-align: middle;\n    }\n\n    .dataframe tbody tr th {\n        vertical-align: top;\n    }\n\n    .dataframe thead th {\n        text-align: right;\n    }\n</style>\n<table border=\"1\" class=\"dataframe\">\n  <thead>\n    <tr style=\"text-align: right;\">\n      <th></th>\n      <th>artistName</th>\n      <th>artistUri</th>\n      <th>songName</th>\n      <th>songUri</th>\n      <th>songDuration</th>\n      <th>songPopularity</th>\n      <th>played_at</th>\n    </tr>\n  </thead>\n  <tbody>\n    <tr>\n      <th>397</th>\n      <td>Giom</td>\n      <td>spotify:artist:43Of1c5VKtUcPmNZTLu2it</td>\n      <td>Hot Rabbits - Spiritchaser Remix</td>\n      <td>spotify:track:22QGqIGkPgCySsWIfiLHaS</td>\n      <td>482000</td>\n      <td>5</td>\n      <td>2021-04-19T01:03:50.146Z</td>\n    </tr>\n    <tr>\n      <th>398</th>\n      <td>Moe Turk</td>\n      <td>spotify:artist:12rv3gD3SpWQRRkswqlwvF</td>\n      <td>Lost</td>\n      <td>spotify:track:2t7MoYPZdgmGtoTyskyVr2</td>\n      <td>337735</td>\n      <td>24</td>\n      <td>2021-04-18T23:57:22.876Z</td>\n    </tr>\n    <tr>\n      <th>399</th>\n      <td>Etta James</td>\n      <td>spotify:artist:0iOVhN3tnSvgDbcg25JoJb</td>\n      <td>A Sunday Kind Of Love</td>\n      <td>spotify:track:0zGLlXbHlrAyBN1x6sY0rb</td>\n      <td>196133</td>\n      <td>71</td>\n      <td>2021-04-18T23:56:39.622Z</td>\n    </tr>\n    <tr>\n      <th>400</th>\n      <td>Alina K.</td>\n      <td>spotify:artist:1Pg8rh0BcD7t64YOWGFiwX</td>\n      <td>Walking Your Path - Full Intention Sunset Mix</td>\n      <td>spotify:track:6VGLQIcZm8tn4tBlaKsbrd</td>\n      <td>320702</td>\n      <td>37</td>\n      <td>2021-04-18T23:53:24.720Z</td>\n    </tr>\n    <tr>\n      <th>401</th>\n      <td>Tuplain</td>\n      <td>spotify:artist:7rju9kEAn7gtTnjCMtHhMj</td>\n      <td>The Vibes</td>\n      <td>spotify:track:13o9PO4h9qKcWTjwye6UCo</td>\n      <td>289970</td>\n      <td>32</td>\n      <td>2021-04-18T15:53:41.654Z</td>\n    </tr>\n  </tbody>\n</table>\n</div>"
     },
     "metadata": {},
     "execution_count": 5
    }
   ],
   "source": [
    "df.drop_duplicates('played_at', inplace=True)\n",
    "df = df.sort_values('played_at', ascending=False)\n",
    "df.head(5)"
   ]
  },
  {
   "cell_type": "code",
   "execution_count": 6,
   "metadata": {},
   "outputs": [],
   "source": [
    "df.to_csv('songplay.csv',index=False, sep = '|')"
   ]
  },
  {
   "cell_type": "code",
   "execution_count": 7,
   "metadata": {},
   "outputs": [],
   "source": [
    "conn = psycopg2.connect(\"host=localhost dbname=spotify user=postgres password=###\")\n",
    "cur = conn.cursor()"
   ]
  },
  {
   "cell_type": "code",
   "execution_count": 8,
   "metadata": {},
   "outputs": [],
   "source": [
    "cur.execute(\"DROP TABLE IF EXISTS songplay\")"
   ]
  },
  {
   "cell_type": "code",
   "execution_count": 9,
   "metadata": {},
   "outputs": [],
   "source": [
    "cur.execute(\"\"\"\n",
    "    CREATE TABLE IF NOT EXISTS songplay(\n",
    "        artistName VARCHAR NOT NULL,\n",
    "        artistUri VARCHAR NOT NULL,\n",
    "        songName VARCHAR NOT NULL,\n",
    "        songUri VARCHAR NOT NULL,\n",
    "        songDuration BIGINT NOT NULL,\n",
    "        songPopularity INT NOT NULL,\n",
    "        playedAt TIMESTAMP NOT NULL\n",
    ")\n",
    "\"\"\")"
   ]
  },
  {
   "cell_type": "code",
   "execution_count": 10,
   "metadata": {},
   "outputs": [],
   "source": [
    "with open('songplay.csv', 'r') as f:\n",
    "    next(f)\n",
    "    cur.copy_from(f, 'songplay', sep='|', null='')\n",
    "    conn.commit()"
   ]
  },
  {
   "cell_type": "code",
   "execution_count": 11,
   "metadata": {},
   "outputs": [
    {
     "output_type": "execute_result",
     "data": {
      "text/plain": [
       "[('Giom',\n",
       "  'spotify:artist:43Of1c5VKtUcPmNZTLu2it',\n",
       "  'Hot Rabbits - Spiritchaser Remix',\n",
       "  'spotify:track:22QGqIGkPgCySsWIfiLHaS',\n",
       "  482000,\n",
       "  5,\n",
       "  datetime.datetime(2021, 4, 19, 1, 3, 50, 146000))]"
      ]
     },
     "metadata": {},
     "execution_count": 11
    }
   ],
   "source": [
    "cur.execute(\"SELECT * FROM songplay LIMIT 1\")\n",
    "cur.fetchall()"
   ]
  },
  {
   "cell_type": "code",
   "execution_count": 12,
   "metadata": {},
   "outputs": [],
   "source": [
    "cur.close()"
   ]
  }
 ]
}